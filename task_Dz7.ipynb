{
 "cells": [
  {
   "cell_type": "code",
   "execution_count": 1,
   "id": "be659e69",
   "metadata": {},
   "outputs": [],
   "source": [
    "# Даны две независимые выборки. Не соблюдается условие нормальности\n",
    "# x1 380,420, 290\n",
    "# y1 140,360,200,900\n",
    "# Сделайте вывод по результатам, полученным с помощью функции"
   ]
  },
  {
   "cell_type": "code",
   "execution_count": 2,
   "id": "46615446",
   "metadata": {},
   "outputs": [],
   "source": [
    "import numpy as np\n",
    "import scipy.stats as stats"
   ]
  },
  {
   "cell_type": "code",
   "execution_count": 3,
   "id": "e1f6d17a",
   "metadata": {},
   "outputs": [],
   "source": [
    "x1 = np.array([380, 420, 290])\n",
    "y1 = np.array([140, 360, 200, 900])"
   ]
  },
  {
   "cell_type": "code",
   "execution_count": 4,
   "id": "be0f43b6",
   "metadata": {},
   "outputs": [
    {
     "data": {
      "text/plain": [
       "MannwhitneyuResult(statistic=8.0, pvalue=0.6285714285714286)"
      ]
     },
     "execution_count": 4,
     "metadata": {},
     "output_type": "execute_result"
    }
   ],
   "source": [
    "stats.mannwhitneyu(x1, y1)"
   ]
  },
  {
   "cell_type": "code",
   "execution_count": 6,
   "id": "f85bcf99",
   "metadata": {},
   "outputs": [],
   "source": [
    "# Вывод: pvalue=0.628 > 𝛼=0.05 => нет статистически значимых различий между выборками"
   ]
  },
  {
   "cell_type": "code",
   "execution_count": 7,
   "id": "91daff54",
   "metadata": {},
   "outputs": [],
   "source": [
    "# 2) Исследовалось влияние препарата на уровень давления пациентов. \n",
    "# Сначала измерялось давление до приема препарата, потом через 10 минут и через 30 минут. \n",
    "# Есть ли статистически значимые различия?\n",
    "# 1е измерение до приема препарата: 150, 160, 165, 145, 155\n",
    "# 2е измерение через 10 минут: 140, 155, 150, 130, 135\n",
    "# 3е измерение через 30 минут: 130, 130, 120, 130, 125"
   ]
  },
  {
   "cell_type": "code",
   "execution_count": 8,
   "id": "7890adb6",
   "metadata": {},
   "outputs": [],
   "source": [
    "x1 = np.array([150, 160, 165, 145, 155])\n",
    "x2 = np.array([140, 155, 150, 130, 135])\n",
    "x3 = np.array([130, 130, 120, 130, 125])"
   ]
  },
  {
   "cell_type": "code",
   "execution_count": 9,
   "id": "c71ead8c",
   "metadata": {},
   "outputs": [
    {
     "data": {
      "text/plain": [
       "FriedmanchisquareResult(statistic=9.578947368421062, pvalue=0.00831683351100441)"
      ]
     },
     "execution_count": 9,
     "metadata": {},
     "output_type": "execute_result"
    }
   ],
   "source": [
    "stats.friedmanchisquare(x1, x2, x3)"
   ]
  },
  {
   "cell_type": "code",
   "execution_count": 10,
   "id": "8de07cf4",
   "metadata": {},
   "outputs": [],
   "source": [
    "# Вывод: pvalue=0.008 < 𝛼=0.05 => имеются статистически значимые различия между выборками. \n",
    "# Препарат влияет на уровень давления пациентов"
   ]
  },
  {
   "cell_type": "code",
   "execution_count": 11,
   "id": "1ddf64f4",
   "metadata": {},
   "outputs": [],
   "source": [
    "# 3) Сравните 1 и 2 е измерения, предполагая, что 3го измерения через 30 минут не было."
   ]
  },
  {
   "cell_type": "code",
   "execution_count": 12,
   "id": "5f909be8",
   "metadata": {},
   "outputs": [],
   "source": [
    "x1 = np.array([150, 160, 165, 145, 155])\n",
    "x2 = np.array([140, 155, 150, 130, 135])"
   ]
  },
  {
   "cell_type": "code",
   "execution_count": 13,
   "id": "5c4cff35",
   "metadata": {},
   "outputs": [
    {
     "data": {
      "text/plain": [
       "WilcoxonResult(statistic=0.0, pvalue=0.0625)"
      ]
     },
     "execution_count": 13,
     "metadata": {},
     "output_type": "execute_result"
    }
   ],
   "source": [
    "stats.wilcoxon(x1, x2)"
   ]
  },
  {
   "cell_type": "code",
   "execution_count": 14,
   "id": "4832d11d",
   "metadata": {},
   "outputs": [],
   "source": [
    "# Вывод: pvalue=0.063 > 𝛼=0.05 => нет статистически значимых различий между выборками. \n",
    "# Препарат не влияет на уровень давления пациентов"
   ]
  },
  {
   "cell_type": "code",
   "execution_count": 15,
   "id": "1bcc66ff",
   "metadata": {},
   "outputs": [],
   "source": [
    "# 4) Даны 3 группы учеников плавания.\n",
    "# В 1 группе время на дистанцию 50 м составляют: 56, 60, 62, 55, 71, 67, 59, 58, 64, 67\n",
    "# Вторая группа : 57, 58, 69, 48, 72, 70, 68, 71, 50, 53\n",
    "# Третья группа: 57, 67, 49, 48, 47, 55, 66, 51, 54\n"
   ]
  },
  {
   "cell_type": "code",
   "execution_count": 16,
   "id": "e6bb501e",
   "metadata": {},
   "outputs": [],
   "source": [
    "x1 = np.array([56, 60, 62, 55, 71, 67, 59, 58, 64, 67])\n",
    "x2 = np.array([57, 58, 69, 48, 72, 70, 68, 71, 50, 53])\n",
    "x3 = np.array([57, 67, 49, 48, 47, 55, 66, 51, 54])"
   ]
  },
  {
   "cell_type": "code",
   "execution_count": 17,
   "id": "fa2b6373",
   "metadata": {},
   "outputs": [
    {
     "data": {
      "text/plain": [
       "KruskalResult(statistic=5.465564058257224, pvalue=0.0650380998590494)"
      ]
     },
     "execution_count": 17,
     "metadata": {},
     "output_type": "execute_result"
    }
   ],
   "source": [
    "stats.kruskal(x1, x2, x3)"
   ]
  },
  {
   "cell_type": "code",
   "execution_count": 18,
   "id": "fe112623",
   "metadata": {},
   "outputs": [],
   "source": [
    "# Вывод: pvalue=0.065 > 𝛼=0.05 => нет статистически значимых различий между выборками"
   ]
  },
  {
   "cell_type": "code",
   "execution_count": 19,
   "id": "b5aff117",
   "metadata": {},
   "outputs": [],
   "source": [
    "# 5) Заявляется, что партия изготавливается со средним арифметическим 2,5 см. Проверить данную гипотезу, если известно, \n",
    "# что размеры изделий подчинены нормальному закону распределения. Объем выборки 10, уровень статистической значимости 5%\n",
    "# 2.51, 2.35, 2.74, 2.56, 2.40, 2.36, 2.65, 2.7, 2.67, 2.34"
   ]
  },
  {
   "cell_type": "code",
   "execution_count": 20,
   "id": "57f60444",
   "metadata": {},
   "outputs": [],
   "source": [
    "x = np.array([2.51, 2.35, 2.74, 2.56, 2.40, 2.36, 2.65, 2.7, 2.67, 2.34])"
   ]
  },
  {
   "cell_type": "code",
   "execution_count": 21,
   "id": "0fd81268",
   "metadata": {},
   "outputs": [],
   "source": [
    "# Формулирование гипотез:\n",
    "# H0: μ = μ0 нулевая гипотеза\n",
    "# H1: μ != μ0 альтернативная гипотеза\n",
    "\n",
    "# Выбор статистического критерия, сигма неизвестна\n",
    "# 𝑡н = (𝑋 − μ)/(𝞼н/√𝑛)\n"
   ]
  },
  {
   "cell_type": "code",
   "execution_count": 23,
   "id": "fd764284",
   "metadata": {},
   "outputs": [
    {
     "name": "stdout",
     "output_type": "stream",
     "text": [
      "Наблюдаемое значение: tн = 0.563\n"
     ]
    }
   ],
   "source": [
    "# Расчет наблюдаемого критерия\n",
    "μ = 2.5\n",
    "n = 10\n",
    "𝑋 = np.mean(x) # 2.528\n",
    "𝞼н = np.std(x, ddof=1) # 0.157\n",
    "t = (𝑋 - μ) / (𝞼н / (n)**0.5)\n",
    "print(f'Наблюдаемое значение: tн =', round(t, 3))"
   ]
  },
  {
   "cell_type": "code",
   "execution_count": 25,
   "id": "3c634e36",
   "metadata": {},
   "outputs": [
    {
     "name": "stdout",
     "output_type": "stream",
     "text": [
      "Табличное значение при уровне значимости α = 0.05 и числе степеней свободы k = 9: tт = 2.262\n"
     ]
    }
   ],
   "source": [
    "# Сравнение табличного и наблюдаемого значения\n",
    "# При α = 0,05\n",
    "# Число степеней свободы k = 10 - 1 = 9. \n",
    "tт = 2.262\n",
    "print(f'Табличное значение при уровне значимости α = 0.05 и числе степеней свободы k = 9: tт =', round(stats.t.ppf(0.975, 9),3)) "
   ]
  },
  {
   "cell_type": "code",
   "execution_count": null,
   "id": "51710dc7",
   "metadata": {},
   "outputs": [],
   "source": [
    "# Вывод\n",
    "# Расчетное значение tн попадает в область принятия нулевой гипотезы (tн < tт)\n",
    "# Вывод: нулевая гипотеза подтверждается. Партия изготавливается со средним арифметическим 2,5 см"
   ]
  }
 ],
 "metadata": {
  "kernelspec": {
   "display_name": "Python 3 (ipykernel)",
   "language": "python",
   "name": "python3"
  },
  "language_info": {
   "codemirror_mode": {
    "name": "ipython",
    "version": 3
   },
   "file_extension": ".py",
   "mimetype": "text/x-python",
   "name": "python",
   "nbconvert_exporter": "python",
   "pygments_lexer": "ipython3",
   "version": "3.7.9"
  }
 },
 "nbformat": 4,
 "nbformat_minor": 5
}
